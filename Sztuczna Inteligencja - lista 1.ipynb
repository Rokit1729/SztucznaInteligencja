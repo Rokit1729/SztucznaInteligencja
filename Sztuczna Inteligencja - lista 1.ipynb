{
 "cells": [
  {
   "cell_type": "markdown",
   "metadata": {},
   "source": [
    "# Lista 1"
   ]
  },
  {
   "cell_type": "markdown",
   "metadata": {},
   "source": [
    "Zadanie 4"
   ]
  },
  {
   "cell_type": "code",
   "execution_count": 1,
   "metadata": {},
   "outputs": [],
   "source": [
    "# Generujemy wszystkie możliwe pary\n",
    "pary = [(a, b) for a in range(1, 100) for b in range(a, 100)]"
   ]
  },
  {
   "cell_type": "code",
   "execution_count": 2,
   "metadata": {},
   "outputs": [],
   "source": [
    "# Tworzymy słowniki\n",
    "suma_par = {}\n",
    "iloczyn_par = {}\n",
    "for (a, b) in pary:\n",
    "    s = a + b\n",
    "    p = a * b\n",
    "    \n",
    "    if s not in suma_par:\n",
    "        suma_par[s] = []\n",
    "    suma_par[s].append((a, b))\n",
    "    \n",
    "    if p not in iloczyn_par:\n",
    "        iloczyn_par[p] = []\n",
    "    iloczyn_par[p].append((a, b))"
   ]
  },
  {
   "cell_type": "code",
   "execution_count": 3,
   "metadata": {},
   "outputs": [],
   "source": [
    "# Iloczyn musi mieć co najmniej 2 rozkłady\n",
    "kandydaci1 = [(a, b) for (a, b) in pary if len(iloczyn_par[a * b]) > 1]"
   ]
  },
  {
   "cell_type": "code",
   "execution_count": 4,
   "metadata": {},
   "outputs": [],
   "source": [
    "# Dla sumy a+b każda para dająca tę sumę musi mieć iloczyn, który jest niejednoznaczny\n",
    "kandydaci2 = []\n",
    "for (a, b) in kandydaci1:\n",
    "    if all(len(iloczyn_par[x * y]) > 1 for (x, y) in suma_par[a + b]):\n",
    "        kandydaci2.append((a, b))"
   ]
  },
  {
   "cell_type": "code",
   "execution_count": 5,
   "metadata": {},
   "outputs": [],
   "source": [
    "# Z iloczynu a*b tylko jedna para spełniająca wcześniejsze warunki jest możliwa\n",
    "kandydaci3 = []\n",
    "for (a, b) in kandydaci2:\n",
    "    if sum(1 for (x, y) in kandydaci2 if x * y == a * b) == 1:\n",
    "        kandydaci3.append((a, b))\n",
    "    "
   ]
  },
  {
   "cell_type": "code",
   "execution_count": 6,
   "metadata": {},
   "outputs": [],
   "source": [
    "# Z sumy a+b tylko jedna para spełniająca wcześniejsze warunki jest możliwa\n",
    "rozwiazania = []\n",
    "for (a, b) in kandydaci3:\n",
    "    if sum(1 for (x, y) in kandydaci3 if x + y == a + b) == 1:\n",
    "        rozwiazania.append((a, b))"
   ]
  },
  {
   "cell_type": "code",
   "execution_count": 7,
   "metadata": {},
   "outputs": [
    {
     "name": "stdout",
     "output_type": "stream",
     "text": [
      "[(1, 4), (1, 8), (7, 8), (8, 11)]\n"
     ]
    }
   ],
   "source": [
    "# Rozwiazania\n",
    "print(rozwiazania)"
   ]
  }
 ],
 "metadata": {
  "kernelspec": {
   "display_name": "Python 3",
   "language": "python",
   "name": "python3"
  },
  "language_info": {
   "codemirror_mode": {
    "name": "ipython",
    "version": 3
   },
   "file_extension": ".py",
   "mimetype": "text/x-python",
   "name": "python",
   "nbconvert_exporter": "python",
   "pygments_lexer": "ipython3",
   "version": "3.12.2"
  }
 },
 "nbformat": 4,
 "nbformat_minor": 2
}
