{
 "cells": [
  {
   "cell_type": "code",
   "execution_count": 11,
   "id": "4dc42ece",
   "metadata": {},
   "outputs": [],
   "source": [
    "import heapq"
   ]
  },
  {
   "cell_type": "code",
   "execution_count": 12,
   "id": "f544c477",
   "metadata": {},
   "outputs": [],
   "source": [
    "def misplaced_tiles(state):\n",
    "    return sum([1 for i in range(TILES_NUM) if state[i] != 0 and state[i] != GOAL[i]])\n",
    "\n",
    "def manhattan_distance(state):\n",
    "    distance = 0\n",
    "    for i, tile in enumerate(state):\n",
    "        if tile != 0:\n",
    "            goal_tile = GOAL.index(tile)\n",
    "            distance += abs(i // ROW_COL_LENGTH - goal_tile // ROW_COL_LENGTH) + abs(i % ROW_COL_LENGTH - goal_tile % ROW_COL_LENGTH)\n",
    "    return distance"
   ]
  },
  {
   "cell_type": "code",
   "execution_count": 13,
   "id": "5d48269f",
   "metadata": {},
   "outputs": [],
   "source": [
    "# Plansza 3x3\n",
    "GOAL = (1, 2, 3, 4, 5, 6, 7, 8, 0)\n",
    "# Plansza 4x4\n",
    "#GOAL = (1, 2, 3, 4, 5, 6, 7, 8, 9, 10, 11, 12, 13, 14, 15, 0)\n",
    "# Powrót z planszy 4x4 do planszy 3x3\n",
    "#GOAL = (9,1,2,3,10,4,5,6,11,7,8,0,12,13,14,15)"
   ]
  },
  {
   "cell_type": "code",
   "execution_count": 14,
   "id": "ad9704d6",
   "metadata": {},
   "outputs": [],
   "source": [
    "TILES_NUM = len(GOAL)\n",
    "ROW_COL_LENGTH = int(TILES_NUM**0.5)\n",
    "\n",
    "def possible_moves(state):\n",
    "    neighbors = []\n",
    "    zero_index = state.index(0)\n",
    "    zero_row = zero_index // ROW_COL_LENGTH\n",
    "    zero_col = zero_index % ROW_COL_LENGTH\n",
    "\n",
    "    moves = [(-1, 0, \"Góra\"), (1, 0, \"Dół\"), (0, -1, \"Lewo\"), (0, 1, \"Prawo\")]\n",
    "    for row_move, col_move, name in moves:\n",
    "        row = zero_row + row_move\n",
    "        col = zero_col + col_move\n",
    "        if 0 <= row < ROW_COL_LENGTH and 0 <= col < ROW_COL_LENGTH:\n",
    "            new_index = ROW_COL_LENGTH * row + col\n",
    "            new_state = list(state)\n",
    "            new_state[zero_index], new_state[new_index] = new_state[new_index], new_state[zero_index]\n",
    "            neighbors.append((tuple(new_state), name))\n",
    "    return neighbors\n",
    "\n",
    "def is_solvable(state):\n",
    "    flat = [tile for tile in state if tile != 0]\n",
    "    inv = 0\n",
    "    for i in range(len(flat)):\n",
    "        for j in range(i+1, len(flat)):\n",
    "            if flat[i] > flat[j]:\n",
    "                inv += 1\n",
    "    return inv % 2 == 0"
   ]
  },
  {
   "cell_type": "code",
   "execution_count": 15,
   "id": "0b989531",
   "metadata": {},
   "outputs": [],
   "source": [
    "def a_star(start, heuristic):\n",
    "    # Kolejka: (funkcja stanu, koszt, stan)\n",
    "    heap = []\n",
    "    heapq.heappush(heap, (heuristic(start), 0, start))\n",
    "\n",
    "    g_scores = {start: 0}\n",
    "    came_from = {}\n",
    "    nodes_visited = 0\n",
    "\n",
    "    while heap:\n",
    "        f, g, current = heapq.heappop(heap)\n",
    "        nodes_visited += 1\n",
    "\n",
    "        # Znalazł rozwiązanie\n",
    "        if current == GOAL:\n",
    "            path = []\n",
    "            node = current\n",
    "            while node in came_from:\n",
    "                parent, move = came_from[node]\n",
    "                path.append(move)\n",
    "                node = parent\n",
    "            path.reverse()\n",
    "            return path, nodes_visited, None\n",
    "        \n",
    "        # Przeszukwanie sąsiadów\n",
    "        for neighbor, move in possible_moves(current):\n",
    "            new_g = g + 1\n",
    "            if neighbor not in g_scores or new_g < g_scores[neighbor]:\n",
    "                g_scores[neighbor] = new_g\n",
    "                came_from[neighbor] = (current, move)\n",
    "                f_neighbor = new_g + heuristic(neighbor)\n",
    "                heapq.heappush(heap, (f_neighbor, new_g, neighbor))\n",
    "\n",
    "        # Nie znalazł rozwiązania\n",
    "    return None, nodes_visited, \"Nie znaleziono rozwiązania.\""
   ]
  },
  {
   "cell_type": "code",
   "execution_count": 16,
   "id": "fda50d2f",
   "metadata": {},
   "outputs": [
    {
     "name": "stdout",
     "output_type": "stream",
     "text": [
      "Liczba odwiedzonych węzłów: 1349\n",
      "Długość rozwiązania: 22\n",
      "Sekwencja ruchów od obecnego stanu do rozwiązania:\n",
      "1. Prawo\n",
      "2. Dół\n",
      "3. Lewo\n",
      "4. Dół\n",
      "5. Prawo\n",
      "6. Prawo\n",
      "7. Góra\n",
      "8. Lewo\n",
      "9. Lewo\n",
      "10. Dół\n",
      "11. Prawo\n",
      "12. Góra\n",
      "13. Góra\n",
      "14. Prawo\n",
      "15. Dół\n",
      "16. Dół\n",
      "17. Lewo\n",
      "18. Lewo\n",
      "19. Góra\n",
      "20. Prawo\n",
      "21. Prawo\n",
      "22. Dół\n"
     ]
    }
   ],
   "source": [
    "state = (0,1,2,3,4,5,6,7,8)\n",
    "\n",
    "moves, num_nodes, error = a_star(state, manhattan_distance)\n",
    "if error:\n",
    "    print(\"Błąd:\", error)\n",
    "else:\n",
    "    print(\"Liczba odwiedzonych węzłów:\", num_nodes)\n",
    "    print(\"Długość rozwiązania:\", len(moves))\n",
    "    print(\"Sekwencja ruchów od obecnego stanu do rozwiązania:\")\n",
    "    for i, move in enumerate(moves):\n",
    "        print(f\"{i+1}. {move}\")"
   ]
  },
  {
   "cell_type": "code",
   "execution_count": null,
   "id": "da67088c",
   "metadata": {},
   "outputs": [],
   "source": [
    "import itertools\n",
    "\n",
    "max_length = -1\n",
    "hardest_state = None\n",
    "hardest_moves = None\n",
    "hardest_nodes = None\n",
    "\n",
    "for state in itertools.permutations(range(9)):\n",
    "    moves, num_nodes, error = a_star(state, manhattan_distance)\n",
    "\n",
    "    if error:\n",
    "        continue\n",
    "\n",
    "    if len(moves) > max_length:\n",
    "        max_length = len(moves)\n",
    "        hardest_state = state\n",
    "        hardest_moves = moves\n",
    "        hardest_nodes = num_nodes\n",
    "\n",
    "print(\"Najtrudniejszy stan:\", hardest_state)\n",
    "print(\"Długość ścieżki:\", max_length)\n",
    "print(\"Liczba odwiedzonych węzłów:\", hardest_nodes)\n",
    "print(\"Ścieżka ruchów:\", hardest_moves)"
   ]
  },
  {
   "cell_type": "code",
   "execution_count": null,
   "id": "b74fd1c7",
   "metadata": {},
   "outputs": [],
   "source": [
    "for _ in range(1000):\n",
    "    state = (0,1,2,3,4,5,6,7,8)\n",
    "\n",
    "    moves, num_nodes, error = a_star(state, manhattan_distance)\n",
    "    if error:\n",
    "        print(\"Błąd:\", error)\n",
    "    else:\n",
    "        print(\"Liczba odwiedzonych węzłów:\", num_nodes)\n",
    "        print(\"Długość rozwiązania:\", len(moves))\n",
    "        print(\"Sekwencja ruchów od obecnego stanu do rozwiązania:\")\n",
    "        for i, move in enumerate(moves):\n",
    "            print(f\"{i+1}. {move}\")"
   ]
  }
 ],
 "metadata": {
  "kernelspec": {
   "display_name": "Python 3",
   "language": "python",
   "name": "python3"
  },
  "language_info": {
   "codemirror_mode": {
    "name": "ipython",
    "version": 3
   },
   "file_extension": ".py",
   "mimetype": "text/x-python",
   "name": "python",
   "nbconvert_exporter": "python",
   "pygments_lexer": "ipython3",
   "version": "3.12.8"
  }
 },
 "nbformat": 4,
 "nbformat_minor": 5
}
